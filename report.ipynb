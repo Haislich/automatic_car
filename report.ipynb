{
 "cells": [
  {
   "cell_type": "code",
   "execution_count": 7,
   "metadata": {},
   "outputs": [],
   "source": [
    "import torch\n",
    "DEVICE = \"cuda\" if torch.cuda.is_available() else \"cpu\"\n"
   ]
  },
  {
   "cell_type": "code",
   "execution_count": 8,
   "metadata": {},
   "outputs": [],
   "source": [
    "from automatic_car.frame_dataset import FramesDataset \n",
    "from torch.utils.data import DataLoader\n",
    "\n",
    "train_dataset = FramesDataset(\"train\")\n",
    "train_dataloader = DataLoader(train_dataset,batch_size= 32,shuffle = True)\n",
    "test_dataset = FramesDataset(\"test\")\n",
    "test_dataloader = DataLoader(train_dataset,batch_size= 32,shuffle = True)\n"
   ]
  },
  {
   "cell_type": "code",
   "execution_count": 9,
   "metadata": {},
   "outputs": [],
   "source": [
    "import torch\n",
    "from torch import nn\n",
    "\n",
    "\n",
    "class Model0(nn.Module):\n",
    "    def __init__(self, num_channels, num_classes) -> None:\n",
    "        super().__init__()\n",
    "        hidden_units = 12\n",
    "        self.cnn_layer = nn.Sequential(\n",
    "            nn.Conv2d(\n",
    "                in_channels=num_channels,\n",
    "                out_channels=hidden_units,\n",
    "                kernel_size=3,\n",
    "                stride=1,\n",
    "                padding=1,\n",
    "            ),\n",
    "            nn.ReLU(),\n",
    "            nn.Conv2d(\n",
    "                in_channels=hidden_units,\n",
    "                out_channels=hidden_units,\n",
    "                kernel_size=3,\n",
    "                stride=3,\n",
    "                padding=1,\n",
    "            ),\n",
    "            nn.ReLU(),\n",
    "            nn.MaxPool2d(kernel_size=3, stride=3),\n",
    "        )\n",
    "        self.linear_layer = nn.Sequential(\n",
    "            nn.Flatten(),\n",
    "            nn.Linear(in_features=1200, out_features=num_classes),\n",
    "        )\n",
    "\n",
    "    def forward(self, x: torch.Tensor):\n",
    "        x = self.cnn_layer(x)\n",
    "        return self.linear_layer(x)\n",
    "\n"
   ]
  },
  {
   "cell_type": "code",
   "execution_count": 10,
   "metadata": {},
   "outputs": [
    {
     "name": "stdout",
     "output_type": "stream",
     "text": [
      "Train loss: 2.001513719558716\n",
      "Train loss: 1.669541597366333\n",
      "Train loss: 1.3002350330352783\n",
      "Train loss: 1.5500378608703613\n",
      "Train loss: 1.2748340368270874\n",
      "Train loss: 1.5684785842895508\n"
     ]
    }
   ],
   "source": [
    "from automatic_car.utils import train\n",
    "from automatic_car.utils import test\n",
    "from torch.optim import SGD\n",
    "from torch.nn import CrossEntropyLoss\n",
    "epochs = 3\n",
    "num_channels = train_dataset.get_num_channels()\n",
    "num_classes = train_dataset.get_num_classes()\n",
    "model = Model0(num_channels=num_channels,num_classes=num_classes)\n",
    "loss_fn = CrossEntropyLoss()\n",
    "optimizer = SGD(model.parameters(),lr = 0.001)\n",
    "for epoch in range(epochs):\n",
    "    train(model=model,data_loader=train_dataloader,loss_fn=loss_fn,optimizer=optimizer)\n",
    "    test(model=model,data_loader=train_dataloader,loss_fn=loss_fn)"
   ]
  }
 ],
 "metadata": {
  "kernelspec": {
   "display_name": ".venv",
   "language": "python",
   "name": "python3"
  },
  "language_info": {
   "codemirror_mode": {
    "name": "ipython",
    "version": 3
   },
   "file_extension": ".py",
   "mimetype": "text/x-python",
   "name": "python",
   "nbconvert_exporter": "python",
   "pygments_lexer": "ipython3",
   "version": "3.11.5"
  }
 },
 "nbformat": 4,
 "nbformat_minor": 2
}
