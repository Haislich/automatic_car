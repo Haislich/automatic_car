{
 "cells": [
  {
   "cell_type": "code",
   "execution_count": 1,
   "metadata": {},
   "outputs": [],
   "source": [
    "import torch\n",
    "import matplotlib.pyplot as plt\n",
    "from torch import nn\n",
    "DEVICE = \"cuda\" if torch.cuda.is_available() else \"cpu\"\n"
   ]
  },
  {
   "cell_type": "code",
   "execution_count": 2,
   "metadata": {},
   "outputs": [],
   "source": [
    "from automatic_car.frame_dataset import FramesDataset \n",
    "from torch.utils.data import DataLoader\n",
    "\n",
    "train_dataset = FramesDataset(\"train\")\n",
    "train_dataloader = DataLoader(train_dataset,batch_size= 32,shuffle = True)\n",
    "test_dataset = FramesDataset(\"test\")\n",
    "test_dataloader = DataLoader(train_dataset,batch_size= 32,shuffle = True)\n"
   ]
  },
  {
   "cell_type": "code",
   "execution_count": 3,
   "metadata": {},
   "outputs": [],
   "source": [
    "class Model0(nn.Module):\n",
    "    def __init__(self, num_channels, num_classes) -> None:\n",
    "        super().__init__()\n",
    "        hidden_units = 12\n",
    "        self.cnn_layer = nn.Sequential(\n",
    "            nn.Conv2d(\n",
    "                in_channels=num_channels,\n",
    "                out_channels=hidden_units,\n",
    "                kernel_size=3,\n",
    "                stride=1,\n",
    "                padding=1,\n",
    "            ),\n",
    "            nn.ReLU(),\n",
    "            nn.Conv2d(\n",
    "                in_channels=hidden_units,\n",
    "                out_channels=hidden_units,\n",
    "                kernel_size=3,\n",
    "                stride=3,\n",
    "                padding=1,\n",
    "            ),\n",
    "            nn.ReLU(),\n",
    "            nn.MaxPool2d(kernel_size=3, stride=3),\n",
    "        )\n",
    "        self.linear_layer = nn.Sequential(\n",
    "            nn.Flatten(),\n",
    "            nn.Linear(in_features=1200, out_features=num_classes),\n",
    "        )\n",
    "\n",
    "    def forward(self, x: torch.Tensor):\n",
    "        x = self.cnn_layer(x)\n",
    "        return self.linear_layer(x)\n",
    "\n"
   ]
  },
  {
   "cell_type": "code",
   "execution_count": 4,
   "metadata": {},
   "outputs": [],
   "source": [
    "from automatic_car.utils import train\n",
    "from automatic_car.utils import test\n",
    "from torch.optim import SGD\n",
    "from torch.nn import CrossEntropyLoss\n",
    "epochs = range(30)\n",
    "num_channels = train_dataset.get_num_channels()\n",
    "num_classes = train_dataset.get_num_classes()\n",
    "model = Model0(num_channels=num_channels,num_classes=num_classes)\n",
    "loss_fn = CrossEntropyLoss()\n",
    "optimizer = SGD(model.parameters(),lr = 0.001)\n",
    "train_loss = [train(model=model,data_loader=train_dataloader,loss_fn=loss_fn,optimizer=optimizer,device=DEVICE) for _ in epochs]\n",
    "test_loss = [test(model=model,data_loader=train_dataloader,loss_fn=loss_fn,device=DEVICE) for _ in epochs]\n",
    "\n",
    "\n"
   ]
  },
  {
   "cell_type": "code",
   "execution_count": 5,
   "metadata": {},
   "outputs": [
    {
     "data": {
      "image/png": "[encoded data removed]",
      "text/plain": [
       "<Figure size 800x400 with 1 Axes>"
      ]
     },
     "metadata": {},
     "output_type": "display_data"
    }
   ],
   "source": [
    "# # Create subplots\n",
    "plt.figure(figsize=(8,4))\n",
    "# Plot array1 on the first subplot\n",
    "plt.plot(train_loss,label='Train loss')\n",
    "plt.plot(test_loss,label='Test loss')\n",
    "plt.xticks(epochs)\n",
    "plt.xlabel('Epochs')\n",
    "plt.ylabel('Loss Values')\n",
    "plt.show()\n",
    "plt.legend()\n",
    "# Show the plot\n",
    "plt.show()\n"
   ]
  }
 ],
 "metadata": {
  "kernelspec": {
   "display_name": ".venv",
   "language": "python",
   "name": "python3"
  },
  "language_info": {
   "codemirror_mode": {
    "name": "ipython",
    "version": 3
   },
   "file_extension": ".py",
   "mimetype": "text/x-python",
   "name": "python",
   "nbconvert_exporter": "python",
   "pygments_lexer": "ipython3",
   "version": "3.11.5"
  }
 },
 "nbformat": 4,
 "nbformat_minor": 2
}
