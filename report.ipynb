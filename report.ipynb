{
 "cells": [
  {
   "cell_type": "code",
   "execution_count": 1,
   "metadata": {},
   "outputs": [],
   "source": [
    "import torch\n",
    "import matplotlib.pyplot as plt\n",
    "from torch import nn\n",
    "DEVICE = \"cuda\" if torch.cuda.is_available() else \"cpu\"\n"
   ]
  },
  {
   "cell_type": "code",
   "execution_count": 2,
   "metadata": {},
   "outputs": [],
   "source": [
    "from automatic_car.frame_dataset import FramesDataset \n",
    "from torch.utils.data import DataLoader\n",
    "\n",
    "train_dataset = FramesDataset(\"train\")\n",
    "train_dataloader = DataLoader(train_dataset,batch_size= 32,shuffle = True)\n",
    "test_dataset = FramesDataset(\"test\")\n",
    "test_dataloader = DataLoader(train_dataset,batch_size= 32,shuffle = True)\n"
   ]
  },
  {
   "cell_type": "code",
   "execution_count": 3,
   "metadata": {},
   "outputs": [],
   "source": [
    "class Model0(nn.Module):\n",
    "    def __init__(self, num_channels, num_classes) -> None:\n",
    "        super().__init__()\n",
    "        hidden_units = 12\n",
    "        self.cnn_layer = nn.Sequential(\n",
    "            nn.Conv2d(\n",
    "                in_channels=num_channels,\n",
    "                out_channels=hidden_units,\n",
    "                kernel_size=3,\n",
    "                stride=1,\n",
    "                padding=1,\n",
    "            ),\n",
    "            nn.ReLU(),\n",
    "            nn.Conv2d(\n",
    "                in_channels=hidden_units,\n",
    "                out_channels=hidden_units,\n",
    "                kernel_size=3,\n",
    "                stride=3,\n",
    "                padding=1,\n",
    "            ),\n",
    "            nn.ReLU(),\n",
    "            nn.MaxPool2d(kernel_size=3, stride=3),\n",
    "        )\n",
    "        self.linear_layer = nn.Sequential(\n",
    "            nn.Flatten(),\n",
    "            nn.Linear(in_features=1200, out_features=num_classes),\n",
    "        )\n",
    "\n",
    "    def forward(self, x: torch.Tensor):\n",
    "        x = self.cnn_layer(x)\n",
    "        return self.linear_layer(x)\n",
    "\n"
   ]
  },
  {
   "cell_type": "code",
   "execution_count": 4,
   "metadata": {},
   "outputs": [
    {
     "name": "stdout",
     "output_type": "stream",
     "text": [
      "Train loss: 1.3422465324401855\n",
      "Train loss: 1.233466386795044\n",
      "Train loss: 1.1824734210968018\n",
      "Train loss: 1.1644331216812134\n",
      "Train loss: 1.1366736888885498\n",
      "Train loss: 1.115431785583496\n",
      "Train loss: 1.0986047983169556\n",
      "Train loss: 1.0902633666992188\n",
      "Train loss: 1.0750900506973267\n",
      "Train loss: 1.0680490732192993\n",
      "Train loss: 1.05083429813385\n",
      "Train loss: 1.032483696937561\n",
      "Train loss: 1.0248969793319702\n",
      "Train loss: 1.0150671005249023\n",
      "Train loss: 1.0050715208053589\n",
      "Train loss: 0.9944983720779419\n",
      "Train loss: 0.9850433468818665\n",
      "Train loss: 0.970946192741394\n",
      "Train loss: 0.9767053127288818\n",
      "Train loss: 0.9652650952339172\n",
      "Test loss: 1.5683914422988892\n",
      "Test loss: 1.5630183219909668\n",
      "Test loss: 1.5602188110351562\n",
      "Test loss: 1.560316801071167\n",
      "Test loss: 1.563725471496582\n",
      "Test loss: 1.5631086826324463\n",
      "Test loss: 1.562174677848816\n",
      "Test loss: 1.5654914379119873\n",
      "Test loss: 1.5777595043182373\n",
      "Test loss: 1.570940375328064\n",
      "Test loss: 1.5618460178375244\n",
      "Test loss: 1.5849854946136475\n",
      "Test loss: 1.5602195262908936\n",
      "Test loss: 1.5662254095077515\n"
     ]
    }
   ],
   "source": [
    "from automatic_car.utils import train\n",
    "from automatic_car.utils import test\n",
    "from torch.optim import SGD\n",
    "from torch.nn import CrossEntropyLoss\n",
    "epochs = 20\n",
    "num_channels = train_dataset.get_num_channels()\n",
    "num_classes = train_dataset.get_num_classes()\n",
    "model = Model0(num_channels=num_channels,num_classes=num_classes)\n",
    "loss_fn = CrossEntropyLoss()\n",
    "optimizer = SGD(model.parameters(),lr = 0.001)\n",
    "train_loss = [train(model=model,data_loader=train_dataloader,loss_fn=loss_fn,optimizer=optimizer,device=DEVICE) for _ in range(epochs)]\n",
    "test_loss = [test(model=model,data_loader=train_dataloader,loss_fn=loss_fn,device=DEVICE) for _ in range(epochs)]\n",
    "# Create subplots\n",
    "plt.figure(figsize=(8,4))\n",
    "\n",
    "# Plot array1 on the first subplot\n",
    "plt.plot(train_loss,label='Train loss')\n",
    "plt.plot(test_loss,'Test loss')\n",
    "\n",
    "\n",
    "# Show the plot\n",
    "plt.show()"
   ]
  }
 ],
 "metadata": {
  "kernelspec": {
   "display_name": ".venv",
   "language": "python",
   "name": "python3"
  },
  "language_info": {
   "codemirror_mode": {
    "name": "ipython",
    "version": 3
   },
   "file_extension": ".py",
   "mimetype": "text/x-python",
   "name": "python",
   "nbconvert_exporter": "python",
   "pygments_lexer": "ipython3",
   "version": "3.11.5"
  }
 },
 "nbformat": 4,
 "nbformat_minor": 2
}
