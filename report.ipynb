{
 "cells": [
  {
   "cell_type": "code",
   "execution_count": 6,
   "metadata": {},
   "outputs": [],
   "source": [
    "from automatic_car.frame_dataset import FramesDataset \n",
    "from torch.utils.data import DataLoader\n",
    "from torch.optim import SGD\n",
    "from torch.nn import CrossEntropyLoss\n",
    "import torch"
   ]
  },
  {
   "cell_type": "code",
   "execution_count": null,
   "metadata": {},
   "outputs": [],
   "source": [
    "def eval_model(model:torch.nn.Module,data_loader:DataLoader,loss_fn:torch.nn.Module):\n",
    "    loss = 0\n",
    "    model.eval()\n",
    "    with torch.inference_mode():\n",
    "        for X,y in data_loader:\n",
    "            # Make prediction\n",
    "            y_pred = model(X)\n",
    "            \n",
    "            # Accumulate loss per batch\n",
    "            loss += loss_fn(y_pred,y)\n",
    "    loss /=len(data_loader)\n",
    "    return {\n",
    "        \"model_name\"\n",
    "    }        "
   ]
  },
  {
   "cell_type": "code",
   "execution_count": 3,
   "metadata": {},
   "outputs": [],
   "source": [
    "train_dataset = FramesDataset(\"train\")\n",
    "train_dataloader = DataLoader(train_dataset,batch_size= 32,shuffle = True)\n",
    "test_dataset = FramesDataset(\"test\")\n",
    "test_dataloader = DataLoader(train_dataset,batch_size= 32,shuffle = True)\n"
   ]
  },
  {
   "cell_type": "code",
   "execution_count": 7,
   "metadata": {},
   "outputs": [
    {
     "ename": "IndentationError",
     "evalue": "expected an indented block after 'if' statement on line 20 (1382007762.py, line 21)",
     "output_type": "error",
     "traceback": [
      "\u001b[1;36m  Cell \u001b[1;32mIn[7], line 21\u001b[1;36m\u001b[0m\n\u001b[1;33m    train_loss /= len(train_dataloader)\u001b[0m\n\u001b[1;37m    ^\u001b[0m\n\u001b[1;31mIndentationError\u001b[0m\u001b[1;31m:\u001b[0m expected an indented block after 'if' statement on line 20\n"
     ]
    }
   ],
   "source": [
    "epochs = 3\n",
    "\n",
    "# optimizer = SGD(lr = 0.01)\n",
    "# loss_fn = CrossEntropyLoss()\n",
    "for epoch in range(epochs):\n",
    "    continue\n",
    "    print(f\"Epoch {epoch}\\n----\")\n",
    "    train_loss = 0\n",
    "    for batch, (X,y) in enumerate(train_dataloader):\n",
    "        \n",
    "        #model.train()\n",
    "        # y_pred = model(X)\n",
    "        # loss = loss_fn(y_pred,y)\n",
    "        \n",
    "        # # Loss for batch\n",
    "        # train_loss +=loss\n",
    "        \n",
    "        # optimizer.zero_grad()\n",
    "        # loss.backward()\n",
    "        # optimizer.step()\n",
    "        if batch % 100 == 0:\n",
    "            pass\n",
    "    train_loss /= len(train_dataloader)\n",
    "    test_loss, test_acc =0,0\n",
    "    model.eval()\n",
    "    with torch.inference_mode():\n",
    "        for X_test,y_test in test_dataloader:\n",
    "            test_pred = model(X_test)\n",
    "            test_loss += loss_fn(test_pred,y_test)"
   ]
  }
 ],
 "metadata": {
  "kernelspec": {
   "display_name": ".venv",
   "language": "python",
   "name": "python3"
  },
  "language_info": {
   "codemirror_mode": {
    "name": "ipython",
    "version": 3
   },
   "file_extension": ".py",
   "mimetype": "text/x-python",
   "name": "python",
   "nbconvert_exporter": "python",
   "pygments_lexer": "ipython3",
   "version": "3.11.5"
  }
 },
 "nbformat": 4,
 "nbformat_minor": 2
}
